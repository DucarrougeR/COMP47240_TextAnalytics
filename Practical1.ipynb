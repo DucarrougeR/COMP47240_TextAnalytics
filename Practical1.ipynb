{
 "cells": [
  {
   "cell_type": "markdown",
   "metadata": {},
   "source": [
    "# Practical 1\n",
    "## Romain Ducarrouge\n",
    "### 15201291"
   ]
  },
  {
   "cell_type": "markdown",
   "metadata": {},
   "source": [
    "# <font color='red'> Question1 </font>"
   ]
  },
  {
   "cell_type": "code",
   "execution_count": 1,
   "metadata": {
    "collapsed": false
   },
   "outputs": [
    {
     "name": "stdout",
     "output_type": "stream",
     "text": [
      "b'%PDF-1.5\\r%\\xe2\\xe3\\xcf\\xd3\\r\\n476 0 obj\\r<</Linearized 1/L 109027/O 478/E 62525/N 5/T 108612/H [ 1245 279]>>\\rendobj\\r             \\r\\n495 0 obj\\r<</DecodeParms<</Columns 4/Predictor 12>>/Filter/FlateDecode/ID[<7199B08D158FC44998B134A29C48C786><6EF4A3F92C280347A193D2B101F0ADB7>]/Index[476 291]/Info 475 0 R/Length 110/Prev 108613/Root 477 0 R/Size 767/Type/XRef/W[1 2 1]>>stream\\r\\nh\\xdebbd\\x10``b`}\\x02$\\x18\\xdb\\x80\\x04\\xd3n \\xc1\\xe3\\x02$x\\xff\\x02\\t\\x96\\x00 \\xc1\\xbc\\x18D\\xf0\\x83\\x88u \\xe21H\\xdd\\x07\\x90\\xac\\x02\\x90\\x90\\xaf\\x05\\xb1\\xf6\\x01\\t\\xce\\xdf@\\x82+\\nd\\x942\\xc8\\xd0~ \\xd1+\\xc9\\xc0\\xc4\\xc8\\x98\\rd100\\x8e\\x12#\\x88\\xe0\\x9e;\\x1a\\x06#\\x8d\\xf86\\x1a\\xe74#\\xfe3\\xff\\xdd\\r\\x10`\\x00\\xbb\\xed\\x14)\\r\\nendstream\\rendobj\\rstartxref\\r'\n"
     ]
    }
   ],
   "source": [
    "#Get a PDF file, save it to disk.\n",
    "import requests\n",
    "import numpy as np\n",
    "import nltk\n",
    "import re\n",
    "\n",
    "url='http://www.ucd.ie/universityrelations/about-ucd/docs/UCD_Profile_v02l.pdf'\n",
    "# University College Dublin – By Numbers\n",
    "\n",
    "r = requests.get(url)\n",
    "\n",
    "#PDF is a binary format. Use request.content instead of request.text\n",
    "#Write binary content on disk in file named 'thinkpython.pdf'\n",
    "with open(\"OriginalUCD.pdf\", \"wb\") as pdffile:\n",
    "    print(r.content[:500])\n",
    "    pdffile.write(r.content)\n",
    "\n",
    "# Using 'pdftotext' I extract the pdf content & create a txt file with same content\n",
    "# use \"\\\" for windows directory vs \"/\" for mac directory\n",
    "! C:\\Users\\Romain\\Anaconda3\\envs\\comp47350\\xpdfbin-win-3.04\\bin64\\pdftotext OriginalUCD.pdf Practical1.txt"
   ]
  },
  {
   "cell_type": "markdown",
   "metadata": {},
   "source": [
    "### QUESTION 1.a"
   ]
  },
  {
   "cell_type": "code",
   "execution_count": 2,
   "metadata": {
    "collapsed": false
   },
   "outputs": [
    {
     "name": "stdout",
     "output_type": "stream",
     "text": [
      "['University', 'College', 'Dublin', 'PROFILE', 'University', 'College', 'Dublin', 'By', 'Numbers', '1', '19', '25', '40', '94', '122', '133', '450', '460', '1', '828', '1', '854', '3', '095', '4', '645', '6', '895', '7', '234']\n",
      "Number of words:  2082\n",
      "\n",
      "Most frequent top-10 words:  [('of', 112), ('university', 106), ('college', 98), ('dublin', 96), ('and', 84), ('the', 57), ('School', 37), ('University', 35), ('to', 27), ('in', 27)]\n"
     ]
    }
   ],
   "source": [
    "from nltk.tokenize import RegexpTokenizer\n",
    "\n",
    "#Load data into object text\n",
    "with open('Practical1.txt', 'r', encoding='ISO-8859-1') as file:\n",
    "    text = file.read()\n",
    "\n",
    "\n",
    "# Replace the target string\n",
    "text2 = text.replace('ucd', 'university college dublin')\n",
    "text2 = text.replace('UCD', 'university college dublin')\n",
    "\n",
    "# using RegEx to remove punctuations\n",
    "tokenizer = RegexpTokenizer(r'\\w+')\n",
    "words = tokenizer.tokenize(text2)\n",
    "\n",
    "print(words[:30])\n",
    "\n",
    "print(\"Number of words: \", len(words))\n",
    "\n",
    "word_frequency = nltk.FreqDist(words)\n",
    "print(\"\\nMost frequent top-10 words: \", word_frequency.most_common(10))"
   ]
  },
  {
   "cell_type": "markdown",
   "metadata": {},
   "source": [
    "After tokenising the text using *word_tokenize()*, we can see that there are still some words that do not provide meaningful information such as:\n",
    "- &\n",
    "- numbers (1,2,3)\n",
    "- preopositions: of, the, on\n",
    "- punctuations (.,)\n",
    "\n",
    "Here the tokenisation is simply a step used to split the text from a whole text into either a list of sentences or into a list of individual words and characters.\n",
    "\n",
    "One issue arising with this is the fact that counting words would duplicate observations for words that are capitalized and those that are not.\n",
    "A second issue with the current format of the text data is that various declinations of the same word would all count as one specific word rather than count toward one same common root word (a lemma).\n"
   ]
  },
  {
   "cell_type": "markdown",
   "metadata": {},
   "source": [
    "## Question 1.b"
   ]
  },
  {
   "cell_type": "code",
   "execution_count": 3,
   "metadata": {
    "collapsed": false
   },
   "outputs": [
    {
     "name": "stdout",
     "output_type": "stream",
     "text": [
      "\n",
      "Most frequent top-10 words:  [('university', 142), ('college', 117), ('dublin', 116), ('school', 38), ('students', 27), ('research', 23), ('ireland', 20), ('irish', 16), ('programmes', 13), ('education', 13)]\n"
     ]
    },
    {
     "data": {
      "image/png": "[encoded data removed]",
      "text/plain": [
       "<matplotlib.figure.Figure at 0xa9ea5f0>"
      ]
     },
     "metadata": {},
     "output_type": "display_data"
    },
    {
     "name": "stdout",
     "output_type": "stream",
     "text": [
      "Number of words:  1477\n"
     ]
    }
   ],
   "source": [
    "%matplotlib inline\n",
    "\n",
    "UCD = nltk.Text(words)\n",
    "\n",
    "# convert all text to lowercase and remove numbers\n",
    "UCD = [w.lower() for w in UCD if w.isalpha()] \n",
    "\n",
    "stopset = set(nltk.corpus.stopwords.words('english'))\n",
    "stopset.update((\"'s\", 'in','to','I','I','a','and','So',\"isn't\",\"aren't\",'arnt','this','when','it','many','so','cant','yes','no','these'))\n",
    "\n",
    "UCD = [w for w in UCD if not w in stopset]\n",
    "\n",
    "word_frequency2 = nltk.FreqDist(UCD)\n",
    "\n",
    "print(\"\\nMost frequent top-10 words: \", word_frequency2.most_common(10))\n",
    "word_frequency2.plot(10) \n",
    "\n",
    "print(\"Number of words: \", len(UCD))"
   ]
  },
  {
   "cell_type": "markdown",
   "metadata": {},
   "source": [
    "We have now normalized the text by doing several things:\n",
    "- 1) Lower the entire text in order to not account for both 'School' and 'school' using the function *lower()*\n",
    "- 2) we have removed all the numbers by using the *isalpha()* function\n",
    "- 3) we also used the NLTK stopwords in order to remove the words that did not provide much meaningful data.\n",
    "- 4) we have updated the list of stopwords in order to account for the remaining words left in our data that would not be useful.\n",
    "\n",
    "We now have almost 40% less words in our dataset due to these steps. The data may be smaller but at least we have gotten rid of the noise and are left with much more valuable information now.\n",
    "\n",
    "**In the present scenario there should be no real need for checking and fixing potential misspellings due to the fact that this is a pdf generated by UCD (a reliable source who probably ran some spelling mistake detection before releasing this document) and hence should be grammatically correct (unlike Tweets or Facebook statuses for example which would need to get checked for spelling errors)**"
   ]
  },
  {
   "cell_type": "markdown",
   "metadata": {},
   "source": [
    "## Question 1.c"
   ]
  },
  {
   "cell_type": "code",
   "execution_count": 5,
   "metadata": {
    "collapsed": false
   },
   "outputs": [
    {
     "name": "stdout",
     "output_type": "stream",
     "text": [
      "[('university', 'NN'), ('college', 'NN'), ('dublin', 'NN'), ('university', 'NN'), ('college', 'NN'), ('dublin', 'NN'), ('numbers', 'NNS'), ('university', 'NN'), ('choice', 'NN'), ('students', 'NNS')]\n",
      "[('ranking', 'VBG'), ('hectares', 'VBZ'), ('making', 'VBG'), ('woodland', 'VB'), ('won', 'VBD'), ('funded', 'VBN'), ('founded', 'VBD'), ('conferred', 'VBD'), ('science', 'VBP'), ('related', 'VBN')]\n",
      "[('profile', 'JJ'), ('irish', 'JJ'), ('international', 'JJ'), ('international', 'JJ'), ('top', 'JJ'), ('euro', 'JJ'), ('annual', 'JJ'), ('euro', 'JJ'), ('last', 'JJ'), ('newman', 'JJ')]\n"
     ]
    }
   ],
   "source": [
    "POS_UCD = nltk.pos_tag(UCD)\n",
    "\n",
    "ListNouns = []\n",
    "ListVerbs = []\n",
    "ListAdjectives = []\n",
    "\n",
    "for i in POS_UCD:\n",
    "    if i[1]=='NN' or i[1]=='NNS' or i[1]=='NNP' or i[1]=='NNPS':\n",
    "        ListNouns.append(i)\n",
    "    elif i[1]=='JJ' or i[1]=='JJR' or i[1]=='JJS':\n",
    "        ListAdjectives.append(i)\n",
    "    elif i[1]=='VB' or i[1]=='VBD' or i[1]=='VBG' or i[1]=='VBN' or i[1]=='VBP' or i[1]=='VBZ':\n",
    "        ListVerbs.append(i)\n",
    "        \n",
    "print(ListNouns[:10])\n",
    "print(ListVerbs[:10])\n",
    "print(ListAdjectives[:10])"
   ]
  },
  {
   "cell_type": "markdown",
   "metadata": {},
   "source": [
    "Once again here, we have gone one step further in the NLP process and we have identified the function of each word present in the text. We now have the word and its category, such as Noun, Verb, Adjective. This is really helpful as we have a more complete word and a category. For example in the context of a sentiment analysis we could extract the words categorized as adjective in order to assess whether there are mostly positive or negative. We can also extract people or entity's names from the text in order to derive an understanding of what the article talks about."
   ]
  },
  {
   "cell_type": "markdown",
   "metadata": {},
   "source": [
    "# <font color='red'> Question 2 </font>"
   ]
  },
  {
   "cell_type": "markdown",
   "metadata": {},
   "source": [
    "## Question 2.a"
   ]
  },
  {
   "cell_type": "code",
   "execution_count": 6,
   "metadata": {
    "collapsed": false
   },
   "outputs": [
    {
     "name": "stdout",
     "output_type": "stream",
     "text": [
      "['neural', 'network', 'languag', 'model', 'convers', 'speech', 'recognit', 'holger', 'schwenk', 'jean', 'luc', 'gauvain', 'limsi', 'cnr', 'bat', 'bp', 'orsay', 'cedex', 'franc', 'schwenk', 'gauvain', 'limsi', 'fr', 'abstract', 'recent', 'grow', 'interest', 'use', 'neural', 'network']\n"
     ]
    }
   ],
   "source": [
    "url2='https://archives.limsi.fr/Individu/schwenk/English/Research/papers/Schwenk.nnlm.is2004.pdf'\n",
    "# Neural Network Language Models\n",
    "# for Conversational Speech Recognition\n",
    "# by Holger Schwenk and Jean-Luc Gauvain\n",
    "\n",
    "r2 = requests.get(url2)\n",
    "\n",
    "#PDF is a binary format. Use request.content instead of request.text\n",
    "#Write binary content on disk in file named 'thinkpython.pdf'\n",
    "with open(\"OriginalPaper.pdf\", \"wb\") as pdffile:\n",
    "    pdffile.write(r2.content)\n",
    "\n",
    "# Using 'pdftotext' I extract the Democrat pdf content & create a txt file with same content\n",
    "# use \"\\\" for windows directory vs \"/\" for mac directory\n",
    "! C:\\Users\\Romain\\Anaconda3\\envs\\comp47350\\xpdfbin-win-3.04\\bin64\\pdftotext OriginalPaper.pdf Practical2.txt\n",
    "    \n",
    "with open('Practical2.txt', 'r', encoding='ISO-8859-1') as file:\n",
    "    paper = file.read()\n",
    "\n",
    "# using RegEx to remove punctuations\n",
    "tokenizer = RegexpTokenizer(r'\\w+')\n",
    "words2 = tokenizer.tokenize(paper)\n",
    "\n",
    "# convert all text to lowercase and remove numbers\n",
    "words2 = [w.lower() for w in words2 if w.isalpha()] \n",
    "\n",
    "stopset = set(nltk.corpus.stopwords.words('english'))\n",
    "stopset.update((\"'s\", 'I','I','a','and','So',\"isn't\",\"aren't\",'arnt','this','when','it','many','so','cant','yes','no','these'))\n",
    "\n",
    "words2 = [w for w in words2 if not w in stopset]\n",
    "\n",
    "from nltk.stem import PorterStemmer\n",
    "\n",
    "stemmer = PorterStemmer()\n",
    "stem_words2 = [stemmer.stem(wd) for wd in words2]\n",
    "\n",
    "print(stem_words2[:30])"
   ]
  },
  {
   "cell_type": "markdown",
   "metadata": {},
   "source": [
    "After using the Porter Stemmer on the research paper we can see some irregularities such as the following two:\n",
    "- recognit\n",
    "- recogn\n",
    "\n",
    "In this case one could assume that the first one would be the stem of a noun, while the second one would be the stem of a verb, explaining the differences in result.\n",
    "That being said, it does not explicitly mention this, this is why it would be nice to pair this step with a POS step in order to know definitevily the use of the word in its context.\n",
    "\n",
    "Another possible problem with this stemmer is the loss of information, with the word **carri** I do not know what the original word was, and here I am not able to know what it was. It could have been the verb 'carry' with the last 'y' changed to an 'i'. But then if this is the case then why is the word 'probably' transformed into 'probabl'.\n",
    "\n",
    "It also appears clear that this stemmer does not function well with irregular verbs such as **to be** (am, is, are)."
   ]
  },
  {
   "cell_type": "markdown",
   "metadata": {},
   "source": [
    "## Question 2.b"
   ]
  },
  {
   "cell_type": "code",
   "execution_count": 7,
   "metadata": {
    "collapsed": false
   },
   "outputs": [
    {
     "name": "stdout",
     "output_type": "stream",
     "text": [
      "[('neural', 'JJ'), ('network', 'NN'), ('language', 'NN'), ('models', 'NNS'), ('conversational', 'JJ'), ('speech', 'NN'), ('recognition', 'NN'), ('holger', 'NN'), ('schwenk', 'JJ'), ('jean', 'JJ'), ('luc', 'NN'), ('gauvain', 'NN'), ('limsi', 'JJ'), ('cnrs', 'NN'), ('bat', 'NN'), ('bp', 'NN'), ('orsay', 'VBP'), ('cedex', 'NN'), ('france', 'NN'), ('schwenk', 'NN'), ('gauvain', 'NN'), ('limsi', 'JJ'), ('fr', 'NN'), ('abstract', 'NN'), ('recently', 'RB'), ('growing', 'VBG'), ('interest', 'NN'), ('using', 'VBG'), ('neural', 'JJ'), ('networks', 'NNS')]\n"
     ]
    }
   ],
   "source": [
    "# Part of Speech Tagging the text data using nltk function pos_tag()\n",
    "POS_words2 = nltk.pos_tag(words2)\n",
    "\n",
    "q2 = nltk.ne_chunk(POS_words2, binary=True)\n",
    "print(q2[0:30])"
   ]
  },
  {
   "cell_type": "markdown",
   "metadata": {},
   "source": [
    "In this example we can establish that this process is limited, we can identify the fact that the First Name 'Jean' is here tagged as 'JJ', an **adjective**.\n",
    "\n",
    "Also, it appears that while most words get truncated to their lemmas, the word *'conversational'* remains the same and does not get counted toward any other *'convers'* root word.\n",
    "\n",
    "We can also see that the verb use is conjugated to *'using'* in our text and after doing the POS tagging and Lemmatizer, the words 'using', 'modeling' are still present. One could have expectd it to become 'us / VBG' or 'use / VBG' as the VBG is providing the context that this is a verb."
   ]
  },
  {
   "cell_type": "code",
   "execution_count": 33,
   "metadata": {
    "collapsed": false
   },
   "outputs": [
    {
     "name": "stdout",
     "output_type": "stream",
     "text": [
      "(S\n",
      "  neural/JJ\n",
      "  network/NN\n",
      "  language/NN\n",
      "  models/NNS\n",
      "  conversational/JJ\n",
      "  speech/NN\n",
      "  recognition/NN\n",
      "  holger/NN\n",
      "  schwenk/JJ\n",
      "  jean/JJ\n",
      "\n",
      "task\t\t('tasks', 'NNS')\n",
      "limit\t\t('limited', 'JJ')\n",
      "amount\t\t('amount', 'NN')\n",
      "domain\t\t('domain', 'NN')\n",
      "train\t\t('training', 'NN')\n",
      "data\t\t('data', 'NNS')\n",
      "avail\t\t('available', 'JJ')\n",
      "model\t\t('modeling', 'VBG')\n",
      "convers\t\t('conversational', 'JJ')\n",
      "speech\t\t('speech', 'JJ')\n",
      "paper\t\t('paper', 'NN')\n",
      "analyz\t\t('analyze', 'NN')\n",
      "gener\t\t('generalization', 'NN')\n",
      "behavior\t\t('behavior', 'IN')\n",
      "neural\t\t('neural', 'JJ')\n",
      "network\t\t('network', 'NN')\n",
      "lm\t\t('lm', 'NN')\n",
      "domain\t\t('domain', 'NN')\n",
      "train\t\t('training', 'NN')\n",
      "corpora\t\t('corpora', 'NN')\n"
     ]
    }
   ],
   "source": [
    "from nltk.stem import WordNetLemmatizer\n",
    "\n",
    "wnl = WordNetLemmatizer()\n",
    "LemWord = wnl.lemmatize(str(q2))\n",
    "\n",
    "# investigate the Lemmatized data \n",
    "print(LemWord[0:139])\n",
    "\n",
    "# compare results of Stemming and Lemmatizer processes\n",
    "i=60\n",
    "while i<80:\n",
    "    print(str(stem_words2[i]) + '\\t\\t' + str(q2[i]),)\n",
    "    i+=1\n"
   ]
  },
  {
   "cell_type": "markdown",
   "metadata": {},
   "source": [
    "Above we can see a list of 20 different results from the Stemming process (*on the left*) and from the Lemmatizer process (*on the right*).\n",
    "\n",
    "It is clear that the Lemmatizer provides a much clearer contextual information. For example in the example of *'training'*, the Stemming process returns **'train'** while the Lemmatizer returns **training, NN**. Here we can see that the Stemmer returns only the root which can be useful, but it also cuts off a large part of important data. The Lemmatizing process returns the word as well as its category. That way the data returned is more accurate, word is clearer, and it also adds some contextual information.\n",
    "\n",
    "*'The real difference between stemming and lemmatization is threefold:*\n",
    "- Stemming reduces word-forms to (pseudo)stems, whereas lemmatization reduces the word-forms to linguistically valid lemmas. This difference is apparent in languages with more complex morphology, but may be irrelevant for many IR applications;\n",
    "- Lemmatization deals only with inflectional variance, whereas stemming may also deal with derivational variance;\n",
    "- In terms of implementation, lemmatization is usually more sophisticated (especially for morphologically complex languages) and usually requires some sort of lexica. Satisfatory stemming, on the other hand, can be achieved with rather simple rule-based approaches.'* -http://stackoverflow.com/questions/1787110/what-is-the-true-difference-between-lemmatization-vs-stemming"
   ]
  },
  {
   "cell_type": "markdown",
   "metadata": {},
   "source": [
    "# <font color='red'> Question 3 </font>"
   ]
  },
  {
   "cell_type": "code",
   "execution_count": 39,
   "metadata": {
    "collapsed": false
   },
   "outputs": [
    {
     "name": "stdout",
     "output_type": "stream",
     "text": [
      "OK\n",
      "<!DOCTYPE html>\n",
      "<html>\n",
      " <head>\n",
      "  <meta charset=\"utf-8\"/>\n",
      "  <meta content=\"IE=edge,chrome=1\" http-equiv=\"X-UA-Compatible\"/>\n",
      "  <meta content=\"Intro to Beautiful Soup\" name=\"citation_title\"/>\n",
      "  <meta content=\"Jeri Wieringa\" name=\"citation_author\"/>\n",
      "  <meta content=\"2012-12-30\" name=\"citation_publication_date\"/>\n",
      "  <meta content=\"Programming Historian\" name=\"citation_journal_title\"/>\n",
      "  <meta content=\"http://programminghistorian.org/lessons/intro-to-beautiful-soup\" name=\"citation_public_url\"/>\n",
      "  <!-- Mobile viewport optimized: h5bp.com/viewport -->\n",
      "  <meta content=\"width=device-width\" name=\"viewport\"/>\n",
      "  <!--Font awesome CDN -->\n",
      "  <link href=\"//maxcdn.bootstrapcdn.com/font-awesome/4.1.0/css/font-awesome.min.css\" rel=\"stylesheet\"/>\n",
      "  <link href=\"http://fonts.googleapis.com/css?family=Lato:300,400,700|Crete+Round\" rel=\"stylesheet\" type=\"text/css\"/>\n",
      "  <link href=\"/css/style.css\" rel=\"stylesheet\"/>\n",
      "  <link href=\"/css/github.css\" rel=\"stylesheet\"/>\n",
      "  <link href=\"/feed.xml\" rel=\"alternate\" type=\"a\n"
     ]
    },
    {
     "name": "stderr",
     "output_type": "stream",
     "text": [
      "C:\\Users\\Romain\\Anaconda3\\lib\\site-packages\\bs4\\__init__.py:166: UserWarning: No parser was explicitly specified, so I'm using the best available HTML parser for this system (\"lxml\"). This usually isn't a problem, but if you run this code on another system, or in a different virtual environment, it may use a different parser and behave differently.\n",
      "\n",
      "To get rid of this warning, change this:\n",
      "\n",
      " BeautifulSoup([your markup])\n",
      "\n",
      "to this:\n",
      "\n",
      " BeautifulSoup([your markup], \"lxml\")\n",
      "\n",
      "  markup_type=markup_type))\n"
     ]
    }
   ],
   "source": [
    "from bs4 import BeautifulSoup\n",
    "\n",
    "result = requests.get(\"http://programminghistorian.org/lessons/intro-to-beautiful-soup\")\n",
    "\n",
    "# HTTP Status Code for request\n",
    "if result.status_code==200:\n",
    "    print(\"OK\")\n",
    "elif result.status_code >= 400:\n",
    "    print(\"Bad Request or Error\")\n",
    "else:\n",
    "    pass\n",
    "\n",
    "c = result.content\n",
    "\n",
    "soup = BeautifulSoup(c)\n",
    "print(soup.prettify()[0:1000])"
   ]
  },
  {
   "cell_type": "code",
   "execution_count": 50,
   "metadata": {
    "collapsed": false
   },
   "outputs": [
    {
     "name": "stdout",
     "output_type": "stream",
     "text": [
      "<title>Intro to Beautiful Soup | Programming Historian</title>\n"
     ]
    }
   ],
   "source": [
    "# get the title of the page\n",
    "titleTag = soup.html.head.title\n",
    "print(titleTag)"
   ]
  },
  {
   "cell_type": "code",
   "execution_count": 63,
   "metadata": {
    "collapsed": false
   },
   "outputs": [
    {
     "name": "stdout",
     "output_type": "stream",
     "text": [
      "['[<div', 'class=\"author-info\">', '<p', 'class=\"author-name\">About', 'the', 'author</p>', '<div', 'class=\"author-description\"><p>', 'Jeri', 'Wieringa', 'is', 'the', 'digital', 'publishing', 'production', 'lead', 'for', 'the', 'George', 'Mason', 'University', 'Libraries', 'and', 'a', 'doctoral', 'candidate', 'in', 'history', 'at', 'George', 'Mason', 'University.', '</p>', '</div>', '</div>]']\n"
     ]
    }
   ],
   "source": [
    "# get the author details\n",
    "author = soup.find_all(\"div\", class_=\"author-info\")\n",
    "\n",
    "x = str(author).split()\n",
    "final = []\n",
    "\n",
    "for elem in x:\n",
    "    if elem[0] != '<' or elem[0] != '[':\n",
    "        final.append(elem)\n",
    "    \n",
    "print(final)"
   ]
  },
  {
   "cell_type": "code",
   "execution_count": 66,
   "metadata": {
    "collapsed": false
   },
   "outputs": [
    {
     "name": "stdout",
     "output_type": "stream",
     "text": [
      "['[<div', 'class=\"citation-info\">', '<p', 'class=\"citation-head\">Suggested', 'Citation</p>', '<div', 'class=\"suggested-citation\">', '<p>', 'Jeri', 'Wieringa', ',', '\"Intro', 'to', 'Beautiful', 'Soup,\"', '<em>Programming', 'Historian</em>', '(30', 'December', '2012),', 'http://programminghistorian.org/lessons/intro-to-beautiful-soup', '</p>', '</div>', '</div>]']\n"
     ]
    }
   ],
   "source": [
    "# get the website citation info\n",
    "citation = soup.find_all(\"div\", class_=\"citation-info\")\n",
    "print(str(citation).split())"
   ]
  },
  {
   "cell_type": "code",
   "execution_count": 74,
   "metadata": {
    "collapsed": false
   },
   "outputs": [],
   "source": [
    "# get the content of the cite\n",
    "content = soup.find_all(\"div\", class_=\"content\")\n",
    "content = (str(content).split())"
   ]
  },
  {
   "cell_type": "code",
   "execution_count": 73,
   "metadata": {
    "collapsed": false
   },
   "outputs": [
    {
     "name": "stdout",
     "output_type": "stream",
     "text": [
      "\n",
      "Most frequent top-10 words:  [('html', 25), ('tags', 20), ('data', 19), ('file', 18), ('beautiful', 14), ('csv', 14), ('want', 12), ('table', 12), ('soup', 12), ('using', 12)]\n"
     ]
    },
    {
     "data": {
      "image/png": "[encoded data removed]",
      "text/plain": [
       "<matplotlib.figure.Figure at 0x5f7ceb0>"
      ]
     },
     "metadata": {},
     "output_type": "display_data"
    },
    {
     "name": "stdout",
     "output_type": "stream",
     "text": [
      "Number of words:  792\n"
     ]
    }
   ],
   "source": [
    "# perform some normalsation and plotting of most common words in this article content\n",
    "content2 = nltk.Text(content)\n",
    "\n",
    "# convert all text to lowercase and remove numbers\n",
    "content2 = [w.lower() for w in content2 if w.isalpha()] \n",
    "\n",
    "stopset = set(nltk.corpus.stopwords.words('english'))\n",
    "stopset.update((\"'s\", 'in','to','I','I','a','and','So',\"isn't\",\"aren't\",'arnt','this','when','it','many','so','cant','yes','no','these'))\n",
    "\n",
    "content2 = [w for w in content2 if not w in stopset]\n",
    "\n",
    "word_frequency3 = nltk.FreqDist(content2)\n",
    "\n",
    "print(\"\\nMost frequent top-10 words: \", word_frequency3.most_common(10))\n",
    "word_frequency3.plot(10) \n",
    "\n",
    "print(\"Number of words: \", len(content2))"
   ]
  }
 ],
 "metadata": {
  "kernelspec": {
   "display_name": "Python 3",
   "language": "python",
   "name": "python3"
  },
  "language_info": {
   "codemirror_mode": {
    "name": "ipython",
    "version": 3
   },
   "file_extension": ".py",
   "mimetype": "text/x-python",
   "name": "python",
   "nbconvert_exporter": "python",
   "pygments_lexer": "ipython3",
   "version": "3.5.1"
  }
 },
 "nbformat": 4,
 "nbformat_minor": 0
}
